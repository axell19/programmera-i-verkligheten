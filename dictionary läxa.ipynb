{
 "metadata": {
  "language_info": {
   "codemirror_mode": {
    "name": "ipython",
    "version": 3
   },
   "file_extension": ".py",
   "mimetype": "text/x-python",
   "name": "python",
   "nbconvert_exporter": "python",
   "pygments_lexer": "ipython3",
   "version": "3.8.3-final"
  },
  "orig_nbformat": 2,
  "kernelspec": {
   "name": "python3",
   "display_name": "Python 3.8.3 64-bit (conda)",
   "metadata": {
    "interpreter": {
     "hash": "212a70ff410785b4e58e73e309c1ce5e8d937ee79710f9635d8054acf54346b9"
    }
   }
  }
 },
 "nbformat": 4,
 "nbformat_minor": 2,
 "cells": [
  {
   "cell_type": "code",
   "execution_count": 10,
   "metadata": {},
   "outputs": [
    {
     "output_type": "stream",
     "name": "stdout",
     "text": [
      "900\n"
     ]
    }
   ],
   "source": [
    "# 1 (vet inte hur mycket poäng alla kurser ger så skriver 100 på alla)\n",
    "\n",
    "poäng = 0\n",
    "kurser = {\n",
    "    \"engelska\": 100,\n",
    "    \"svenska\": 100,\n",
    "    \"prog\": 100,\n",
    "    \"tillämpad\": 100,\n",
    "    \"webb\": 100,\n",
    "    \"fysik\": 100,\n",
    "    \"idrott\": 100,\n",
    "    \"daodac\": 100,\n",
    "    \"matte\": 100\n",
    "}\n",
    "\n",
    "for i in kurser:\n",
    "    poäng += kurser[i]\n",
    "print(poäng)\n",
    "    \n"
   ]
  },
  {
   "cell_type": "code",
   "execution_count": null,
   "metadata": {},
   "outputs": [],
   "source": [
    "# 2 \n",
    "import random\n",
    "min = 1\n",
    "max = 6\n",
    "kast = {\n",
    "    \"kast1\":1,\n",
    "    \"kast2\":2,\n",
    "    \"kast3\":3,\n",
    "    \"kast4\":4,\n",
    "    \"kast5\":5,\n",
    "    \"kast6\":6\n",
    "}"
   ]
  }
 ]
}