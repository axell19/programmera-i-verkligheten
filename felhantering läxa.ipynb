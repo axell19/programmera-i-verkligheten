{
 "metadata": {
  "language_info": {
   "codemirror_mode": {
    "name": "ipython",
    "version": 3
   },
   "file_extension": ".py",
   "mimetype": "text/x-python",
   "name": "python",
   "nbconvert_exporter": "python",
   "pygments_lexer": "ipython3",
   "version": "3.8.3-final"
  },
  "orig_nbformat": 2,
  "kernelspec": {
   "name": "python3",
   "display_name": "Python 3.8.3 64-bit (conda)",
   "metadata": {
    "interpreter": {
     "hash": "212a70ff410785b4e58e73e309c1ce5e8d937ee79710f9635d8054acf54346b9"
    }
   }
  }
 },
 "nbformat": 4,
 "nbformat_minor": 2,
 "cells": [
  {
   "cell_type": "code",
   "execution_count": 12,
   "metadata": {},
   "outputs": [
    {
     "output_type": "error",
     "ename": "TypeError",
     "evalue": "distance() missing 1 required positional argument: 'y'",
     "traceback": [
      "\u001b[1;31m---------------------------------------------------------------------------\u001b[0m",
      "\u001b[1;31mTypeError\u001b[0m                                 Traceback (most recent call last)",
      "\u001b[1;32m<ipython-input-12-03c191fd40bf>\u001b[0m in \u001b[0;36m<module>\u001b[1;34m\u001b[0m\n\u001b[0;32m      9\u001b[0m \u001b[1;33m\u001b[0m\u001b[0m\n\u001b[0;32m     10\u001b[0m \u001b[1;31m# fel på raden under\u001b[0m\u001b[1;33m\u001b[0m\u001b[1;33m\u001b[0m\u001b[1;33m\u001b[0m\u001b[0m\n\u001b[1;32m---> 11\u001b[1;33m \u001b[0mprint\u001b[0m\u001b[1;33m(\u001b[0m\u001b[0mdistance\u001b[0m\u001b[1;33m(\u001b[0m\u001b[1;33m[\u001b[0m\u001b[1;36m0.5\u001b[0m\u001b[1;33m,\u001b[0m \u001b[1;36m0.5\u001b[0m\u001b[1;33m]\u001b[0m\u001b[1;33m)\u001b[0m\u001b[1;33m)\u001b[0m\u001b[1;33m\u001b[0m\u001b[1;33m\u001b[0m\u001b[0m\n\u001b[0m",
      "\u001b[1;31mTypeError\u001b[0m: distance() missing 1 required positional argument: 'y'"
     ]
    }
   ],
   "source": [
    "# 1 \n",
    "\n",
    "# stavfel på import\n",
    "import numpy as np \n",
    "\n",
    "# stavfel på return\n",
    "def distance(x, y):\n",
    "    return np.sqrt(x+y)\n",
    "\n",
    "# fel på raden under, y saknas\n",
    "print(distance([0.5, 0.5]))"
   ]
  },
  {
   "cell_type": "code",
   "execution_count": 10,
   "metadata": {},
   "outputs": [
    {
     "output_type": "stream",
     "name": "stdout",
     "text": [
      "100 är inte fyrsiffrigt\n231 är inte fyrsiffrigt\n10000 är inte fyrsiffrigt\n10001 är inte fyrsiffrigt\n-1000 är fyrsiffrigt\n102313 är inte fyrsiffrigt\n"
     ]
    }
   ],
   "source": [
    "# 2\n",
    "\n",
    "# Måste ändra funktionen genom att byta ut 10 till 0 på if satsen. \n",
    "def ar_fyrsiffrigt(tal):\n",
    "    if tal//1000 < 0:\n",
    "        return True\n",
    "    else:\n",
    "        return False\n",
    "# Funktionen fungerar och jag hittade bara ett fel men det borde bara vara det antar jag. \n",
    "\n",
    "# testprogram\n",
    "testtal = [100, 231, 10000, 10001, -1000, 102313]\n",
    "\n",
    "for t in testtal:\n",
    "    if ar_fyrsiffrigt(t):\n",
    "        print(f\"{t} är fyrsiffrigt\")\n",
    "    else:\n",
    "        print(f\"{t} är inte fyrsiffrigt\")"
   ]
  },
  {
   "cell_type": "code",
   "execution_count": null,
   "metadata": {},
   "outputs": [],
   "source": []
  }
 ]
}